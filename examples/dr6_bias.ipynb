{
 "cells": [
  {
   "cell_type": "markdown",
   "id": "10bb92d7-d3f0-44d7-b590-2b13104d4c88",
   "metadata": {},
   "source": [
    "## ACT DR6-like bias\n",
    "\n"
   ]
  },
  {
   "cell_type": "markdown",
   "id": "8c00fce9-1bb9-41ee-ab3f-0e35465582f4",
   "metadata": {
    "tags": []
   },
   "source": [
    "In ACT DR6 lensing (https://arxiv.org/abs/2304.05202, https://arxiv.org/abs/2304.05203), one of the ways we demonstrated robustness to foregrounds\n",
    "was by running our pipeline on a couple of microwave-sky simulations, as described in MacCrann et al. 2023 (https://arxiv.org/abs/2304.05196). \n",
    "Here we get these biases for one of these simulations, websky (https://arxiv.org/abs/2001.08787).\n",
    "\n",
    "We\n",
    "- Read in foreground-only alms\n",
    "- Read in total noise curves for filtering\n",
    "- Read in a profile to use for profile-hardening (following https://arxiv.org/abs/2007.04325)\n",
    "- Setup lensing reconstruction using `setup_recon`\n",
    "- Calculate ACT DR6-like foreground biases using `get_bias_terms`\n"
   ]
  },
  {
   "cell_type": "code",
   "execution_count": 1,
   "id": "becf7235-20e3-47c0-b1bf-31e635f65f69",
   "metadata": {
    "tags": []
   },
   "outputs": [],
   "source": [
    "import os\n",
    "os.environ[\"DISABLE_MPI\"]=\"true\"\n",
    "from fgbias import setup_recon, get_bias_terms, get_cl_smooth,dummy_teb, ClBinner\n",
    "from falafel import utils as futils, qe\n",
    "import numpy as np\n",
    "from orphics import maps\n",
    "import healpy as hp\n",
    "from pixell import curvedsky, enmap\n",
    "import matplotlib.pyplot as plt\n",
    "import healpy as hp"
   ]
  },
  {
   "cell_type": "markdown",
   "id": "4eba8fc2-0a07-433a-9a6a-c99a92688f04",
   "metadata": {
    "tags": []
   },
   "source": [
    "We use websky alms that have been processed in various ways to have similar residual foreground levels as the ACT DR6 data - see section 4.2 of MacCrann et al. 2023. These are stored at nersc. \n",
    "\n",
    "Read that in here..."
   ]
  },
  {
   "cell_type": "code",
   "execution_count": 2,
   "id": "16609e47-1fd2-4482-93af-75fb77f0f8af",
   "metadata": {
    "tags": []
   },
   "outputs": [],
   "source": [
    "fg_alm = hp.read_alm(\"/global/cfs/projectdirs/act/data/maccrann/fg_outputs/allfgs_nemo-wdr6dn_tsz-nemo-model-snr5_ps-model-snr4/prep_map/cmb_orig/fg_nonoise_alms_freqcoadd.fits\")"
   ]
  },
  {
   "cell_type": "markdown",
   "id": "61c5e8fb-c90e-4ceb-b8b5-2cbc86adccd1",
   "metadata": {},
   "source": [
    "we'll also need the mask that was used when generating these alms - because there will be \"w factors\" to apply later"
   ]
  },
  {
   "cell_type": "code",
   "execution_count": null,
   "id": "9799cecd-e91c-4952-87e2-720d8bd4a063",
   "metadata": {},
   "outputs": [],
   "source": [
    "mask = enmap.read_map(\"/global/cfs/projectdirs/act/data/synced_maps/DR6_lensing/masks/act_mask_20220316_GAL060_rms_60.00sk.fits\")\n",
    "w2 = maps.wfactor(2, mask)\n",
    "w4 = maps.wfactor(4, mask)"
   ]
  },
  {
   "cell_type": "markdown",
   "id": "4eed3e41-9105-42a6-b4b5-8ce2b8859b10",
   "metadata": {
    "tags": []
   },
   "source": [
    "Now setup the reconstruction tools. \n",
    "\n",
    "We need to specify a few parameters:\n",
    "    - $l_{min}$ and $l_{max}$ for the alms going into the reconstruction\n",
    "    - Total noise level for filters, based on ACT survey simulations, again we just read that in from files here.\n",
    "\n",
    "This is the info required to specify the filtering of the CMB in the quadratic estimator. "
   ]
  },
  {
   "cell_type": "code",
   "execution_count": 3,
   "id": "029b6845-25a2-4244-9b67-9e2da4cddf6b",
   "metadata": {
    "tags": []
   },
   "outputs": [],
   "source": [
    "lmin=600\n",
    "lmax=3000\n",
    "mlmax=4000\n",
    "\n",
    "cltot_file = \"/global/cfs/projectdirs/act/data/maccrann/fg_outputs/allfgs_nemo-wdr6dn_tsz-nemo-model-snr5_ps-model-snr4/prep_map/cmb_orig/Cltot_data.npy\"\n",
    "cltot_data = np.load(cltot_file)\n",
    "\n",
    "#use falafel to get theory Cls \n",
    "#pass it a dictionary of noise Cls \n",
    "nells = {\"TT\" : cltot_data[\"Nltt_freqcoadd\"][:mlmax+1], \n",
    "         \"EE\" : cltot_data[\"Nlee_freqcoadd\"][:mlmax+1],\n",
    "         \"BB\" : cltot_data[\"Nlbb_freqcoadd\"][:mlmax+1]}\n",
    "ucls,tcls = futils.get_theory_dicts(grad=True, \n",
    "                                    nells=nells,\n",
    "                                    lmax=mlmax)"
   ]
  },
  {
   "cell_type": "markdown",
   "id": "cc94403f-94b8-4163-9196-4e68da538171",
   "metadata": {},
   "source": [
    "Finally, we're going to read in a tSZ power spectrum, also estimated from websky, to use as the \"profile\" in the \n",
    "profile-hardening method"
   ]
  },
  {
   "cell_type": "code",
   "execution_count": 4,
   "id": "715bfe00-1b4e-43b9-8179-e5edeb6f30d8",
   "metadata": {
    "tags": []
   },
   "outputs": [],
   "source": [
    "profile = np.loadtxt(\"tsz_profile5000.txt\")"
   ]
  },
  {
   "cell_type": "markdown",
   "id": "6771dd77-ec2c-4985-b575-2d4f3ff103f5",
   "metadata": {
    "tags": []
   },
   "source": [
    "Now call `setup_recon` to setup the lensing reconstruction stuff. We also need to specify what pixelsation our quadriatic estimator\n",
    "is going to use. This shouldn't matter much. "
   ]
  },
  {
   "cell_type": "code",
   "execution_count": 5,
   "id": "5a654040-cb86-45d4-89d1-efdd8d9f026e",
   "metadata": {
    "tags": []
   },
   "outputs": [
    {
     "name": "stdout",
     "output_type": "stream",
     "text": [
      "use new TT\n",
      " Response (TT)\n",
      "use new TT\n"
     ]
    }
   ],
   "source": [
    "shape, wcs = enmap.fullsky_geometry(res=np.radians(1. / 60.0))\n",
    "px_car = qe.pixelization(shape, wcs) #the pixelisation to use for the (real-space) quadratic estimator (shouldn't affect the result...much).\n",
    "\n",
    "recon_stuff = setup_recon(px_car, lmin, lmax, mlmax, ucls,\n",
    "                tcls, do_prh=True,\n",
    "                profile=profile)"
   ]
  },
  {
   "cell_type": "markdown",
   "id": "b0372c70-9ec2-4bfb-9659-6fb839ecd76e",
   "metadata": {},
   "source": [
    "We need to read in a few more things though to estimate the foreground biases:\n",
    "- True lensing potential alms (use this to calculate primary bispectrum)\n",
    "- Two versions of the same unlensed cmb realization, one lensed by the true lensing potential,\n",
    "one lensed by some different lensing potential."
   ]
  },
  {
   "cell_type": "code",
   "execution_count": 6,
   "id": "6437a142-d77d-4fad-b74e-fa57aea40198",
   "metadata": {
    "tags": []
   },
   "outputs": [
    {
     "name": "stderr",
     "output_type": "stream",
     "text": [
      "/tmp/ipykernel_1822689/3072968097.py:6: RuntimeWarning: divide by zero encountered in divide\n",
      "  phi_alm = curvedsky.almxfl( kappa_alm, 1./(Ls * (Ls+1) / 2) )\n"
     ]
    }
   ],
   "source": [
    "#from websky\n",
    "kappa_alm = futils.change_alm_lmax(\n",
    "    hp.read_alm(\"/global/cfs/projectdirs/act/data/maccrann/websky/kappa_alm_lmax6000.fits\"),\n",
    "    mlmax)\n",
    "Ls = np.arange(mlmax+1)\n",
    "phi_alm = curvedsky.almxfl( kappa_alm, 1./(Ls * (Ls+1) / 2) )\n",
    "\n",
    "#cmb lensed by true kappa\n",
    "cmb_alm = dummy_teb(\n",
    "    hp.read_alm(\"/global/cfs/projectdirs/act/data/maccrann/websky/lensed_cmb/lensed_cmb_alm_websky_cmb1999_lmax6000.fits\"),\n",
    ")\n",
    "\n",
    "#same cmb lensed by a different kappa\n",
    "cmbp_alm = futils.get_cmb_alm(1999,0)"
   ]
  },
  {
   "cell_type": "markdown",
   "id": "0a2469e9-20eb-410b-ba17-4920724a314b",
   "metadata": {},
   "source": [
    "And we're ready to estimate the foreground biases using `get_bias_terms`. This will take about 12 minutes. Sorry. "
   ]
  },
  {
   "cell_type": "code",
   "execution_count": 7,
   "id": "aa590c32-4c22-4698-bd5f-1b7c81d05cc4",
   "metadata": {
    "tags": []
   },
   "outputs": [
    {
     "name": "stdout",
     "output_type": "stream",
     "text": [
      "getting biases for est: qe\n",
      "doing fg-only reconstruction\n",
      "qfunc: <function setup_AAAA_recon.<locals>.qfunc_tt_qe at 0x7f508323bf40>\n"
     ]
    },
    {
     "name": "stderr",
     "output_type": "stream",
     "text": [
      "/global/cfs/projectdirs/act/data/maccrann/lenspipe_new/lib/python3.10/site-packages/pixell/curvedsky.py:147: UserWarning: The tweak argument is deprecated and does nothing after the libsharp→ducc transition. It will be removed in a future version\n",
      "  if tweak: warnings.warn(\"The tweak argument is deprecated and does nothing after the libsharp→ducc transition. It will be removed in a future version\")\n",
      "/global/cfs/projectdirs/act/data/maccrann/lenspipe_new/lib/python3.10/site-packages/pixell/curvedsky.py:147: UserWarning: The tweak argument is deprecated and does nothing after the libsharp→ducc transition. It will be removed in a future version\n",
      "  if tweak: warnings.warn(\"The tweak argument is deprecated and does nothing after the libsharp→ducc transition. It will be removed in a future version\")\n",
      "/global/cfs/projectdirs/act/data/maccrann/lenspipe_new/lib/python3.10/site-packages/pixell/curvedsky.py:284: UserWarning: The tweak argument is deprecated and does nothing after the libsharp→ducc transition. It will be removed in a future version\n",
      "  if tweak: warnings.warn(\"The tweak argument is deprecated and does nothing after the libsharp→ducc transition. It will be removed in a future version\")\n"
     ]
    },
    {
     "name": "stdout",
     "output_type": "stream",
     "text": [
      "doing secondary\n"
     ]
    },
    {
     "name": "stderr",
     "output_type": "stream",
     "text": [
      "/global/cfs/projectdirs/act/data/maccrann/lenspipe_new/lib/python3.10/site-packages/pixell/curvedsky.py:147: UserWarning: The tweak argument is deprecated and does nothing after the libsharp→ducc transition. It will be removed in a future version\n",
      "  if tweak: warnings.warn(\"The tweak argument is deprecated and does nothing after the libsharp→ducc transition. It will be removed in a future version\")\n",
      "/global/cfs/projectdirs/act/data/maccrann/lenspipe_new/lib/python3.10/site-packages/pixell/curvedsky.py:147: UserWarning: The tweak argument is deprecated and does nothing after the libsharp→ducc transition. It will be removed in a future version\n",
      "  if tweak: warnings.warn(\"The tweak argument is deprecated and does nothing after the libsharp→ducc transition. It will be removed in a future version\")\n",
      "/global/cfs/projectdirs/act/data/maccrann/lenspipe_new/lib/python3.10/site-packages/pixell/curvedsky.py:284: UserWarning: The tweak argument is deprecated and does nothing after the libsharp→ducc transition. It will be removed in a future version\n",
      "  if tweak: warnings.warn(\"The tweak argument is deprecated and does nothing after the libsharp→ducc transition. It will be removed in a future version\")\n",
      "/global/cfs/projectdirs/act/data/maccrann/lenspipe_new/lib/python3.10/site-packages/pixell/curvedsky.py:147: UserWarning: The tweak argument is deprecated and does nothing after the libsharp→ducc transition. It will be removed in a future version\n",
      "  if tweak: warnings.warn(\"The tweak argument is deprecated and does nothing after the libsharp→ducc transition. It will be removed in a future version\")\n",
      "/global/cfs/projectdirs/act/data/maccrann/lenspipe_new/lib/python3.10/site-packages/pixell/curvedsky.py:147: UserWarning: The tweak argument is deprecated and does nothing after the libsharp→ducc transition. It will be removed in a future version\n",
      "  if tweak: warnings.warn(\"The tweak argument is deprecated and does nothing after the libsharp→ducc transition. It will be removed in a future version\")\n",
      "/global/cfs/projectdirs/act/data/maccrann/lenspipe_new/lib/python3.10/site-packages/pixell/curvedsky.py:284: UserWarning: The tweak argument is deprecated and does nothing after the libsharp→ducc transition. It will be removed in a future version\n",
      "  if tweak: warnings.warn(\"The tweak argument is deprecated and does nothing after the libsharp→ducc transition. It will be removed in a future version\")\n",
      "/global/cfs/projectdirs/act/data/maccrann/lenspipe_new/lib/python3.10/site-packages/pixell/curvedsky.py:147: UserWarning: The tweak argument is deprecated and does nothing after the libsharp→ducc transition. It will be removed in a future version\n",
      "  if tweak: warnings.warn(\"The tweak argument is deprecated and does nothing after the libsharp→ducc transition. It will be removed in a future version\")\n",
      "/global/cfs/projectdirs/act/data/maccrann/lenspipe_new/lib/python3.10/site-packages/pixell/curvedsky.py:147: UserWarning: The tweak argument is deprecated and does nothing after the libsharp→ducc transition. It will be removed in a future version\n",
      "  if tweak: warnings.warn(\"The tweak argument is deprecated and does nothing after the libsharp→ducc transition. It will be removed in a future version\")\n",
      "/global/cfs/projectdirs/act/data/maccrann/lenspipe_new/lib/python3.10/site-packages/pixell/curvedsky.py:284: UserWarning: The tweak argument is deprecated and does nothing after the libsharp→ducc transition. It will be removed in a future version\n",
      "  if tweak: warnings.warn(\"The tweak argument is deprecated and does nothing after the libsharp→ducc transition. It will be removed in a future version\")\n",
      "/global/cfs/projectdirs/act/data/maccrann/lenspipe_new/lib/python3.10/site-packages/pixell/curvedsky.py:147: UserWarning: The tweak argument is deprecated and does nothing after the libsharp→ducc transition. It will be removed in a future version\n",
      "  if tweak: warnings.warn(\"The tweak argument is deprecated and does nothing after the libsharp→ducc transition. It will be removed in a future version\")\n",
      "/global/cfs/projectdirs/act/data/maccrann/lenspipe_new/lib/python3.10/site-packages/pixell/curvedsky.py:147: UserWarning: The tweak argument is deprecated and does nothing after the libsharp→ducc transition. It will be removed in a future version\n",
      "  if tweak: warnings.warn(\"The tweak argument is deprecated and does nothing after the libsharp→ducc transition. It will be removed in a future version\")\n",
      "/global/cfs/projectdirs/act/data/maccrann/lenspipe_new/lib/python3.10/site-packages/pixell/curvedsky.py:284: UserWarning: The tweak argument is deprecated and does nothing after the libsharp→ducc transition. It will be removed in a future version\n",
      "  if tweak: warnings.warn(\"The tweak argument is deprecated and does nothing after the libsharp→ducc transition. It will be removed in a future version\")\n",
      "/global/cfs/projectdirs/act/data/maccrann/lenspipe_new/lib/python3.10/site-packages/fgbias/reconstruction.py:136: RuntimeWarning: invalid value encountered in divide\n",
      "  return (norm_lens[0]**2 / norm_fg[0],\n",
      "/global/cfs/projectdirs/act/data/maccrann/lenspipe_new/lib/python3.10/site-packages/fgbias/reconstruction.py:137: RuntimeWarning: invalid value encountered in divide\n",
      "  norm_lens[1]**2 / norm_fg[1])\n"
     ]
    },
    {
     "name": "stdout",
     "output_type": "stream",
     "text": [
      "getting biases for est: prh\n",
      "doing fg-only reconstruction\n",
      "qfunc: <function setup_AAAA_recon.<locals>.qfunc_tt_prh at 0x7f5083054040>\n"
     ]
    },
    {
     "name": "stderr",
     "output_type": "stream",
     "text": [
      "/global/cfs/projectdirs/act/data/maccrann/lenspipe_new/lib/python3.10/site-packages/pixell/curvedsky.py:147: UserWarning: The tweak argument is deprecated and does nothing after the libsharp→ducc transition. It will be removed in a future version\n",
      "  if tweak: warnings.warn(\"The tweak argument is deprecated and does nothing after the libsharp→ducc transition. It will be removed in a future version\")\n",
      "/global/cfs/projectdirs/act/data/maccrann/lenspipe_new/lib/python3.10/site-packages/pixell/curvedsky.py:147: UserWarning: The tweak argument is deprecated and does nothing after the libsharp→ducc transition. It will be removed in a future version\n",
      "  if tweak: warnings.warn(\"The tweak argument is deprecated and does nothing after the libsharp→ducc transition. It will be removed in a future version\")\n",
      "/global/cfs/projectdirs/act/data/maccrann/lenspipe_new/lib/python3.10/site-packages/pixell/curvedsky.py:284: UserWarning: The tweak argument is deprecated and does nothing after the libsharp→ducc transition. It will be removed in a future version\n",
      "  if tweak: warnings.warn(\"The tweak argument is deprecated and does nothing after the libsharp→ducc transition. It will be removed in a future version\")\n",
      "/global/cfs/projectdirs/act/data/maccrann/lenspipe_new/lib/python3.10/site-packages/pixell/curvedsky.py:147: UserWarning: The tweak argument is deprecated and does nothing after the libsharp→ducc transition. It will be removed in a future version\n",
      "  if tweak: warnings.warn(\"The tweak argument is deprecated and does nothing after the libsharp→ducc transition. It will be removed in a future version\")\n",
      "/global/cfs/projectdirs/act/data/maccrann/lenspipe_new/lib/python3.10/site-packages/pixell/curvedsky.py:147: UserWarning: The tweak argument is deprecated and does nothing after the libsharp→ducc transition. It will be removed in a future version\n",
      "  if tweak: warnings.warn(\"The tweak argument is deprecated and does nothing after the libsharp→ducc transition. It will be removed in a future version\")\n",
      "/global/cfs/projectdirs/act/data/maccrann/lenspipe_new/lib/python3.10/site-packages/pixell/curvedsky.py:284: UserWarning: The tweak argument is deprecated and does nothing after the libsharp→ducc transition. It will be removed in a future version\n",
      "  if tweak: warnings.warn(\"The tweak argument is deprecated and does nothing after the libsharp→ducc transition. It will be removed in a future version\")\n"
     ]
    },
    {
     "name": "stdout",
     "output_type": "stream",
     "text": [
      "doing secondary\n"
     ]
    },
    {
     "name": "stderr",
     "output_type": "stream",
     "text": [
      "/global/cfs/projectdirs/act/data/maccrann/lenspipe_new/lib/python3.10/site-packages/pixell/curvedsky.py:147: UserWarning: The tweak argument is deprecated and does nothing after the libsharp→ducc transition. It will be removed in a future version\n",
      "  if tweak: warnings.warn(\"The tweak argument is deprecated and does nothing after the libsharp→ducc transition. It will be removed in a future version\")\n",
      "/global/cfs/projectdirs/act/data/maccrann/lenspipe_new/lib/python3.10/site-packages/pixell/curvedsky.py:147: UserWarning: The tweak argument is deprecated and does nothing after the libsharp→ducc transition. It will be removed in a future version\n",
      "  if tweak: warnings.warn(\"The tweak argument is deprecated and does nothing after the libsharp→ducc transition. It will be removed in a future version\")\n",
      "/global/cfs/projectdirs/act/data/maccrann/lenspipe_new/lib/python3.10/site-packages/pixell/curvedsky.py:284: UserWarning: The tweak argument is deprecated and does nothing after the libsharp→ducc transition. It will be removed in a future version\n",
      "  if tweak: warnings.warn(\"The tweak argument is deprecated and does nothing after the libsharp→ducc transition. It will be removed in a future version\")\n",
      "/global/cfs/projectdirs/act/data/maccrann/lenspipe_new/lib/python3.10/site-packages/pixell/curvedsky.py:147: UserWarning: The tweak argument is deprecated and does nothing after the libsharp→ducc transition. It will be removed in a future version\n",
      "  if tweak: warnings.warn(\"The tweak argument is deprecated and does nothing after the libsharp→ducc transition. It will be removed in a future version\")\n",
      "/global/cfs/projectdirs/act/data/maccrann/lenspipe_new/lib/python3.10/site-packages/pixell/curvedsky.py:147: UserWarning: The tweak argument is deprecated and does nothing after the libsharp→ducc transition. It will be removed in a future version\n",
      "  if tweak: warnings.warn(\"The tweak argument is deprecated and does nothing after the libsharp→ducc transition. It will be removed in a future version\")\n",
      "/global/cfs/projectdirs/act/data/maccrann/lenspipe_new/lib/python3.10/site-packages/pixell/curvedsky.py:284: UserWarning: The tweak argument is deprecated and does nothing after the libsharp→ducc transition. It will be removed in a future version\n",
      "  if tweak: warnings.warn(\"The tweak argument is deprecated and does nothing after the libsharp→ducc transition. It will be removed in a future version\")\n",
      "/global/cfs/projectdirs/act/data/maccrann/lenspipe_new/lib/python3.10/site-packages/pixell/curvedsky.py:147: UserWarning: The tweak argument is deprecated and does nothing after the libsharp→ducc transition. It will be removed in a future version\n",
      "  if tweak: warnings.warn(\"The tweak argument is deprecated and does nothing after the libsharp→ducc transition. It will be removed in a future version\")\n",
      "/global/cfs/projectdirs/act/data/maccrann/lenspipe_new/lib/python3.10/site-packages/pixell/curvedsky.py:147: UserWarning: The tweak argument is deprecated and does nothing after the libsharp→ducc transition. It will be removed in a future version\n",
      "  if tweak: warnings.warn(\"The tweak argument is deprecated and does nothing after the libsharp→ducc transition. It will be removed in a future version\")\n",
      "/global/cfs/projectdirs/act/data/maccrann/lenspipe_new/lib/python3.10/site-packages/pixell/curvedsky.py:284: UserWarning: The tweak argument is deprecated and does nothing after the libsharp→ducc transition. It will be removed in a future version\n",
      "  if tweak: warnings.warn(\"The tweak argument is deprecated and does nothing after the libsharp→ducc transition. It will be removed in a future version\")\n",
      "/global/cfs/projectdirs/act/data/maccrann/lenspipe_new/lib/python3.10/site-packages/pixell/curvedsky.py:147: UserWarning: The tweak argument is deprecated and does nothing after the libsharp→ducc transition. It will be removed in a future version\n",
      "  if tweak: warnings.warn(\"The tweak argument is deprecated and does nothing after the libsharp→ducc transition. It will be removed in a future version\")\n",
      "/global/cfs/projectdirs/act/data/maccrann/lenspipe_new/lib/python3.10/site-packages/pixell/curvedsky.py:147: UserWarning: The tweak argument is deprecated and does nothing after the libsharp→ducc transition. It will be removed in a future version\n",
      "  if tweak: warnings.warn(\"The tweak argument is deprecated and does nothing after the libsharp→ducc transition. It will be removed in a future version\")\n",
      "/global/cfs/projectdirs/act/data/maccrann/lenspipe_new/lib/python3.10/site-packages/pixell/curvedsky.py:284: UserWarning: The tweak argument is deprecated and does nothing after the libsharp→ducc transition. It will be removed in a future version\n",
      "  if tweak: warnings.warn(\"The tweak argument is deprecated and does nothing after the libsharp→ducc transition. It will be removed in a future version\")\n",
      "/global/cfs/projectdirs/act/data/maccrann/lenspipe_new/lib/python3.10/site-packages/pixell/curvedsky.py:147: UserWarning: The tweak argument is deprecated and does nothing after the libsharp→ducc transition. It will be removed in a future version\n",
      "  if tweak: warnings.warn(\"The tweak argument is deprecated and does nothing after the libsharp→ducc transition. It will be removed in a future version\")\n",
      "/global/cfs/projectdirs/act/data/maccrann/lenspipe_new/lib/python3.10/site-packages/pixell/curvedsky.py:147: UserWarning: The tweak argument is deprecated and does nothing after the libsharp→ducc transition. It will be removed in a future version\n",
      "  if tweak: warnings.warn(\"The tweak argument is deprecated and does nothing after the libsharp→ducc transition. It will be removed in a future version\")\n",
      "/global/cfs/projectdirs/act/data/maccrann/lenspipe_new/lib/python3.10/site-packages/pixell/curvedsky.py:284: UserWarning: The tweak argument is deprecated and does nothing after the libsharp→ducc transition. It will be removed in a future version\n",
      "  if tweak: warnings.warn(\"The tweak argument is deprecated and does nothing after the libsharp→ducc transition. It will be removed in a future version\")\n",
      "/global/cfs/projectdirs/act/data/maccrann/lenspipe_new/lib/python3.10/site-packages/pixell/curvedsky.py:147: UserWarning: The tweak argument is deprecated and does nothing after the libsharp→ducc transition. It will be removed in a future version\n",
      "  if tweak: warnings.warn(\"The tweak argument is deprecated and does nothing after the libsharp→ducc transition. It will be removed in a future version\")\n",
      "/global/cfs/projectdirs/act/data/maccrann/lenspipe_new/lib/python3.10/site-packages/pixell/curvedsky.py:147: UserWarning: The tweak argument is deprecated and does nothing after the libsharp→ducc transition. It will be removed in a future version\n",
      "  if tweak: warnings.warn(\"The tweak argument is deprecated and does nothing after the libsharp→ducc transition. It will be removed in a future version\")\n",
      "/global/cfs/projectdirs/act/data/maccrann/lenspipe_new/lib/python3.10/site-packages/pixell/curvedsky.py:284: UserWarning: The tweak argument is deprecated and does nothing after the libsharp→ducc transition. It will be removed in a future version\n",
      "  if tweak: warnings.warn(\"The tweak argument is deprecated and does nothing after the libsharp→ducc transition. It will be removed in a future version\")\n",
      "/global/cfs/projectdirs/act/data/maccrann/lenspipe_new/lib/python3.10/site-packages/pixell/curvedsky.py:147: UserWarning: The tweak argument is deprecated and does nothing after the libsharp→ducc transition. It will be removed in a future version\n",
      "  if tweak: warnings.warn(\"The tweak argument is deprecated and does nothing after the libsharp→ducc transition. It will be removed in a future version\")\n",
      "/global/cfs/projectdirs/act/data/maccrann/lenspipe_new/lib/python3.10/site-packages/pixell/curvedsky.py:147: UserWarning: The tweak argument is deprecated and does nothing after the libsharp→ducc transition. It will be removed in a future version\n",
      "  if tweak: warnings.warn(\"The tweak argument is deprecated and does nothing after the libsharp→ducc transition. It will be removed in a future version\")\n",
      "/global/cfs/projectdirs/act/data/maccrann/lenspipe_new/lib/python3.10/site-packages/pixell/curvedsky.py:284: UserWarning: The tweak argument is deprecated and does nothing after the libsharp→ducc transition. It will be removed in a future version\n",
      "  if tweak: warnings.warn(\"The tweak argument is deprecated and does nothing after the libsharp→ducc transition. It will be removed in a future version\")\n",
      "/global/cfs/projectdirs/act/data/maccrann/lenspipe_new/lib/python3.10/site-packages/pixell/curvedsky.py:147: UserWarning: The tweak argument is deprecated and does nothing after the libsharp→ducc transition. It will be removed in a future version\n",
      "  if tweak: warnings.warn(\"The tweak argument is deprecated and does nothing after the libsharp→ducc transition. It will be removed in a future version\")\n",
      "/global/cfs/projectdirs/act/data/maccrann/lenspipe_new/lib/python3.10/site-packages/pixell/curvedsky.py:147: UserWarning: The tweak argument is deprecated and does nothing after the libsharp→ducc transition. It will be removed in a future version\n",
      "  if tweak: warnings.warn(\"The tweak argument is deprecated and does nothing after the libsharp→ducc transition. It will be removed in a future version\")\n",
      "/global/cfs/projectdirs/act/data/maccrann/lenspipe_new/lib/python3.10/site-packages/pixell/curvedsky.py:284: UserWarning: The tweak argument is deprecated and does nothing after the libsharp→ducc transition. It will be removed in a future version\n",
      "  if tweak: warnings.warn(\"The tweak argument is deprecated and does nothing after the libsharp→ducc transition. It will be removed in a future version\")\n"
     ]
    },
    {
     "name": "stdout",
     "output_type": "stream",
     "text": [
      "use new TT\n",
      " Response (TT)\n",
      "returning outputs\n",
      "took 0:12:15.896912 to get bias terms\n"
     ]
    },
    {
     "name": "stderr",
     "output_type": "stream",
     "text": [
      "/global/cfs/projectdirs/act/data/maccrann/lenspipe_new/lib/python3.10/site-packages/fgbias/reconstruction.py:312: RuntimeWarning: invalid value encountered in divide\n",
      "  N0 = norm_lens[i]**2/norm_fg[i]\n",
      "/global/cfs/projectdirs/act/data/maccrann/lenspipe_new/lib/python3.10/site-packages/fgbias/reconstruction.py:313: RuntimeWarning: invalid value encountered in divide\n",
      "  N0_s = norm_prof**2/norm_src_fg\n"
     ]
    }
   ],
   "source": [
    "from timeit import default_timer as timer\n",
    "import datetime\n",
    "\n",
    "start=timer()\n",
    "bias_stuff = get_bias_terms(fg_alm, recon_stuff, \n",
    "                   phi_alm, cmb_alm, cmbp_alm,\n",
    "                   ests=[\"qe\",\"prh\"], w2=w2, w4=w4,\n",
    "                            comm=None)\n",
    "end=timer()\n",
    "print(\"took %s to get bias terms\"%datetime.timedelta(seconds=end-start))"
   ]
  },
  {
   "cell_type": "code",
   "execution_count": 13,
   "id": "b6ad7b95-1ecd-493c-9868-15eb90d0285e",
   "metadata": {
    "tags": []
   },
   "outputs": [
    {
     "name": "stderr",
     "output_type": "stream",
     "text": [
      "/tmp/ipykernel_1822689/2906695300.py:9: RuntimeWarning: invalid value encountered in divide\n",
      "  cl_phiphi_theory = ucls[\"kk\"] / (Ls * (Ls+1) / 2)**2 #get theory to compare to\n"
     ]
    },
    {
     "data": {
      "text/plain": [
       "Text(0.5, 1.0, 'DR6-like biases from websky')"
      ]
     },
     "execution_count": 13,
     "metadata": {},
     "output_type": "execute_result"
    },
    {
     "data": {
      "image/png": "[encoded data removed]",
      "text/plain": [
       "<Figure size 640x480 with 1 Axes>"
      ]
     },
     "metadata": {},
     "output_type": "display_data"
    }
   ],
   "source": [
    "%matplotlib inline\n",
    "\n",
    "fig,ax=plt.subplots()\n",
    "\n",
    "#function for binning Cl\n",
    "binner = ClBinner(lmin=20, lmax=1000, nbin=10)\n",
    "\n",
    "#get true cl_phi_phi to compare biases to\n",
    "cl_phiphi_theory = ucls[\"kk\"] / (Ls * (Ls+1) / 2)**2 #get theory to compare to\n",
    "cl_phiphi_binned = binner(cl_phiphi_theory)\n",
    "\n",
    "est, linestyle = \"qe\",\"-\"\n",
    "#ax.plot(binner.bin_mids, binner(bias_stuff[\"cl_phi\"]), color=\"k\", label=r\"$C_L^{\\phi\\phi}$\")\n",
    "ax.plot(binner.bin_mids, binner(bias_stuff[\"total_%s\"%est])/cl_phiphi_binned, linestyle, color=\"k\", label=\"total bias\")\n",
    "ax.plot(binner.bin_mids, binner(bias_stuff[\"primary_%s\"%est])/cl_phiphi_binned, linestyle, color=\"C0\", label=\"primary\")\n",
    "ax.plot(binner.bin_mids, binner(bias_stuff[\"secondary_%s\"%est])/cl_phiphi_binned, linestyle, color=\"C1\", label=\"secondary\")\n",
    "ax.plot(binner.bin_mids, binner(bias_stuff[\"trispectrum_%s\"%est])/cl_phiphi_binned, linestyle, color=\"C2\", label=\"trispectrum\")\n",
    "#ax.plot(binner.bin_mids, binner(source_bias_stuff[\"tri_N0_%s\"%est])/cl_phiphi_binned, linestyle,color=\"C4\", label=\"trispectrum N0\")\n",
    "\n",
    "est, linestyle = \"prh\",\"--\"\n",
    "#ax.plot(binner.bin_mids, binner(bias_stuff[\"cl_phi\"]), color=\"k\", label=r\"$C_L^{\\phi\\phi}$\")\n",
    "ax.plot(binner.bin_mids, binner(bias_stuff[\"total_%s\"%est])/cl_phiphi_binned, linestyle, color=\"k\",)# label=\"total bias\")\n",
    "ax.plot(binner.bin_mids, binner(bias_stuff[\"primary_%s\"%est])/cl_phiphi_binned, linestyle,color=\"C0\",) # label=\"primary\")\n",
    "ax.plot(binner.bin_mids, binner(bias_stuff[\"secondary_%s\"%est])/cl_phiphi_binned, linestyle,color=\"C1\",)# label=\"secondary\")\n",
    "ax.plot(binner.bin_mids, binner(bias_stuff[\"trispectrum_%s\"%est])/cl_phiphi_binned, linestyle,color=\"C2\",)# label=\"trispectrum\")\n",
    "#ax.plot(binner.bin_mids, binner(source_bias_stuff[\"tri_N0_%s\"%est])/cl_phiphi_binned, linestyle,color=\"C4\",)# label=\"trispectrum\")\n",
    "ax.plot([],[],'k--',label=\"PRH\")\n",
    "\n",
    "ax.set_ylim([-0.05,0.05])\n",
    "#ax.set_yscale('symlog')\n",
    "ax.legend(ncols=2)\n",
    "ax.set_xlabel(r\"$L$\")\n",
    "ax.set_ylabel(r\"$\\Delta C_L^{\\phi\\phi} / C_L^{\\phi\\phi}$\")\n",
    "ax.set_title(r\"DR6-like biases from websky\")"
   ]
  },
  {
   "cell_type": "code",
   "execution_count": null,
   "id": "94272cf2-9795-404b-95be-15d0926ec93d",
   "metadata": {},
   "outputs": [],
   "source": []
  }
 ],
 "metadata": {
  "kernelspec": {
   "display_name": "lenspipe_new",
   "language": "python",
   "name": "env"
  },
  "language_info": {
   "codemirror_mode": {
    "name": "ipython",
    "version": 3
   },
   "file_extension": ".py",
   "mimetype": "text/x-python",
   "name": "python",
   "nbconvert_exporter": "python",
   "pygments_lexer": "ipython3",
   "version": "3.10.14"
  }
 },
 "nbformat": 4,
 "nbformat_minor": 5
}
